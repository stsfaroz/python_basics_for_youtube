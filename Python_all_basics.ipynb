{
 "cells": [
  {
   "cell_type": "markdown",
   "metadata": {
    "colab_type": "text",
    "id": "URLijfggDH1A"
   },
   "source": [
    "![alt text](https://hackernoon.com/drafts/q141s3xfs.png)\n"
   ]
  },
  {
   "cell_type": "markdown",
   "metadata": {
    "colab_type": "text",
    "id": "x0wA7wh6DH1D"
   },
   "source": [
    "![alt text](https://encrypted-tbn0.gstatic.com/images?q=tbn%3AANd9GcRnw1dph5heZDICNUR_GFLZKFo7Zub1cnhvOGuLXnu7_F3s_gEA&usqp=CAU)"
   ]
  },
  {
   "cell_type": "markdown",
   "metadata": {
    "colab_type": "text",
    "id": "IOrn4I44DH1G"
   },
   "source": [
    "![alt text](https://qph.fs.quoracdn.net/main-qimg-0613adfdf47a4691e947539c31be0247)\n"
   ]
  },
  {
   "cell_type": "markdown",
   "metadata": {
    "colab_type": "text",
    "id": "mLXl136tEEHd"
   },
   "source": [
    "![alt text](https://qph.fs.quoracdn.net/main-qimg-4643e864bb7a3834e092393a73d25c2b)"
   ]
  },
  {
   "cell_type": "code",
   "execution_count": 1,
   "metadata": {
    "colab": {},
    "colab_type": "code",
    "id": "hPhsREO1DH1H",
    "outputId": "06885b01-65eb-44a4-82ec-9c04a9203112"
   },
   "outputs": [
    {
     "name": "stdout",
     "output_type": "stream",
     "text": [
      "hello world\n"
     ]
    }
   ],
   "source": [
    "print('hello world')"
   ]
  },
  {
   "cell_type": "code",
   "execution_count": 2,
   "metadata": {
    "colab": {},
    "colab_type": "code",
    "id": "W32rsLkXDH1S",
    "outputId": "8c6feb5e-5b60-407a-9dcd-8dba1764a2b4"
   },
   "outputs": [
    {
     "name": "stdout",
     "output_type": "stream",
     "text": [
      "for\n",
      "paragraph \n",
      "vhf\n",
      "\n"
     ]
    }
   ],
   "source": [
    "print(\"\"\"for\n",
    "paragraph \n",
    "vhf\n",
    "\"\"\")"
   ]
  },
  {
   "cell_type": "markdown",
   "metadata": {
    "colab_type": "text",
    "id": "A_QNeL2rDH1a"
   },
   "source": [
    "# Assignment"
   ]
  },
  {
   "cell_type": "code",
   "execution_count": 3,
   "metadata": {
    "colab": {},
    "colab_type": "code",
    "id": "BL9TJskNDH1n"
   },
   "outputs": [],
   "source": [
    "#for comment"
   ]
  },
  {
   "cell_type": "markdown",
   "metadata": {
    "colab_type": "text",
    "id": "7k30KVpvDH1u"
   },
   "source": [
    "![alt text](https://www.learnpythononline.org/images/variable-img/variable-assignment.png)"
   ]
  },
  {
   "cell_type": "code",
   "execution_count": 4,
   "metadata": {
    "colab": {},
    "colab_type": "code",
    "id": "8B2RihzvDH1v"
   },
   "outputs": [],
   "source": [
    "#in this way you can assign variable\n",
    "a=20\n",
    "\n",
    "b=c=d=10\n",
    "\n",
    "x, y, z = \"Orange\", \"Banana\", \"Cherry\""
   ]
  },
  {
   "cell_type": "code",
   "execution_count": 5,
   "metadata": {
    "colab": {},
    "colab_type": "code",
    "id": "8JXaG-QVDH1z",
    "outputId": "976f3841-53cd-4d11-8250-21f7dc91cfc0"
   },
   "outputs": [
    {
     "data": {
      "text/plain": [
       "20"
      ]
     },
     "execution_count": 5,
     "metadata": {},
     "output_type": "execute_result"
    }
   ],
   "source": [
    "A=20\n",
    "a"
   ]
  },
  {
   "cell_type": "code",
   "execution_count": null,
   "metadata": {
    "colab": {},
    "colab_type": "code",
    "id": "9TaIKOPEDH13"
   },
   "outputs": [],
   "source": []
  },
  {
   "cell_type": "code",
   "execution_count": 6,
   "metadata": {
    "colab": {},
    "colab_type": "code",
    "id": "IGZsetw0DH18",
    "outputId": "5999a368-e419-4039-b877-fb5cd2275258"
   },
   "outputs": [
    {
     "data": {
      "text/plain": [
       "'Cherry'"
      ]
     },
     "execution_count": 6,
     "metadata": {},
     "output_type": "execute_result"
    }
   ],
   "source": [
    "z"
   ]
  },
  {
   "cell_type": "code",
   "execution_count": 7,
   "metadata": {
    "colab": {},
    "colab_type": "code",
    "id": "JX2OyP3WDH2A",
    "outputId": "5bd1f60b-edcc-4dd6-97a7-6aa50aa8011d"
   },
   "outputs": [
    {
     "data": {
      "text/plain": [
       "('Orange', 'Banana', 'Cherry')"
      ]
     },
     "execution_count": 7,
     "metadata": {},
     "output_type": "execute_result"
    }
   ],
   "source": [
    "x, y, z "
   ]
  },
  {
   "cell_type": "code",
   "execution_count": 8,
   "metadata": {
    "colab": {},
    "colab_type": "code",
    "id": "FL9iuM9BDH2E",
    "outputId": "ae1938e7-bbf9-4083-e8cd-8d2d4d512117"
   },
   "outputs": [
    {
     "data": {
      "text/plain": [
       "(20, 10, 10, 10)"
      ]
     },
     "execution_count": 8,
     "metadata": {},
     "output_type": "execute_result"
    }
   ],
   "source": [
    "a,b,c,d"
   ]
  },
  {
   "cell_type": "code",
   "execution_count": 9,
   "metadata": {
    "colab": {},
    "colab_type": "code",
    "id": "uAHoxupPDH2I"
   },
   "outputs": [],
   "source": [
    "#case sensitive\n",
    "a=10\n",
    "A=20"
   ]
  },
  {
   "cell_type": "code",
   "execution_count": 10,
   "metadata": {
    "colab": {},
    "colab_type": "code",
    "id": "TawvYcsEDH2N",
    "outputId": "5a79efab-34e6-4cd5-8e55-94e13414afbc"
   },
   "outputs": [
    {
     "data": {
      "text/plain": [
       "20"
      ]
     },
     "execution_count": 10,
     "metadata": {},
     "output_type": "execute_result"
    }
   ],
   "source": [
    "A"
   ]
  },
  {
   "cell_type": "code",
   "execution_count": 11,
   "metadata": {
    "colab": {},
    "colab_type": "code",
    "id": "UNMRc2_RDH2R",
    "outputId": "a6805668-b844-4d18-8ec9-5db38e73b648"
   },
   "outputs": [
    {
     "data": {
      "text/plain": [
       "10"
      ]
     },
     "execution_count": 11,
     "metadata": {},
     "output_type": "execute_result"
    }
   ],
   "source": [
    "a"
   ]
  },
  {
   "cell_type": "code",
   "execution_count": 12,
   "metadata": {
    "colab": {},
    "colab_type": "code",
    "id": "K0HIa1G8DH2U"
   },
   "outputs": [],
   "source": [
    "# \"\" or '' same\n",
    "x=\"salman\"\n",
    "y='salman'"
   ]
  },
  {
   "cell_type": "code",
   "execution_count": 13,
   "metadata": {
    "colab": {},
    "colab_type": "code",
    "id": "t0u6tlMeDH2Z",
    "outputId": "9ca62dc1-2b16-452e-c8ec-c5e030aa6115"
   },
   "outputs": [
    {
     "data": {
      "text/plain": [
       "('salman', 'salman')"
      ]
     },
     "execution_count": 13,
     "metadata": {},
     "output_type": "execute_result"
    }
   ],
   "source": [
    "x,y"
   ]
  },
  {
   "cell_type": "code",
   "execution_count": 14,
   "metadata": {
    "colab": {},
    "colab_type": "code",
    "id": "4VLsA4gCDH2c"
   },
   "outputs": [],
   "source": [
    "x=\"BD\""
   ]
  },
  {
   "cell_type": "code",
   "execution_count": 15,
   "metadata": {
    "colab": {},
    "colab_type": "code",
    "id": "Gn6i8wJvDH2g",
    "outputId": "7fffd6c6-d152-4573-f195-9d7686a550f3"
   },
   "outputs": [
    {
     "name": "stdout",
     "output_type": "stream",
     "text": [
      "her name is  BD but\n"
     ]
    }
   ],
   "source": [
    "print(\"her name is \", x,\"but\")"
   ]
  },
  {
   "cell_type": "code",
   "execution_count": 16,
   "metadata": {
    "colab": {},
    "colab_type": "code",
    "id": "8INkl1qaDH2k",
    "outputId": "293e2bf1-2cb0-4dce-f40a-254496f3948f"
   },
   "outputs": [
    {
     "name": "stdout",
     "output_type": "stream",
     "text": [
      "my name is  BD ok\n"
     ]
    }
   ],
   "source": [
    "print(\"my name is \",x,\"ok\")"
   ]
  },
  {
   "cell_type": "code",
   "execution_count": 17,
   "metadata": {
    "colab": {},
    "colab_type": "code",
    "id": "SijWJ9S2DH2o",
    "outputId": "08b888a5-4a5f-419a-de75-cb21c03863fa"
   },
   "outputs": [
    {
     "name": "stdout",
     "output_type": "stream",
     "text": [
      "my name is BD\n"
     ]
    }
   ],
   "source": [
    "#both above and below are same\n",
    "print(\"my name is \"+ x)"
   ]
  },
  {
   "cell_type": "code",
   "execution_count": 18,
   "metadata": {
    "colab": {},
    "colab_type": "code",
    "id": "JurdlSCbDH2s",
    "outputId": "4b115e9f-675d-4174-9e9e-81aeccdeec38"
   },
   "outputs": [
    {
     "name": "stdout",
     "output_type": "stream",
     "text": [
      "Python is 100\n"
     ]
    }
   ],
   "source": [
    "x = \"Python is \"\n",
    "y = \"100\"\n",
    "z =  x + y\n",
    "print(z)"
   ]
  },
  {
   "cell_type": "code",
   "execution_count": null,
   "metadata": {
    "colab": {},
    "colab_type": "code",
    "id": "zJROEs2pDH2v"
   },
   "outputs": [],
   "source": []
  },
  {
   "cell_type": "code",
   "execution_count": 19,
   "metadata": {
    "colab": {},
    "colab_type": "code",
    "id": "VG4RpaP2DH2y"
   },
   "outputs": [],
   "source": [
    "a=1"
   ]
  },
  {
   "cell_type": "code",
   "execution_count": 20,
   "metadata": {
    "colab": {},
    "colab_type": "code",
    "id": "8iS-LPgVDH21",
    "outputId": "a78ba72e-6c4f-4b30-a675-ac7a51d54523"
   },
   "outputs": [
    {
     "data": {
      "text/plain": [
       "int"
      ]
     },
     "execution_count": 20,
     "metadata": {},
     "output_type": "execute_result"
    }
   ],
   "source": [
    "type(a)"
   ]
  },
  {
   "cell_type": "code",
   "execution_count": 21,
   "metadata": {
    "colab": {},
    "colab_type": "code",
    "id": "LyT3MZMHDH25",
    "outputId": "76457738-bdb5-4d9f-e742-4d202b373859"
   },
   "outputs": [
    {
     "name": "stdout",
     "output_type": "stream",
     "text": [
      "value of a is 20\n"
     ]
    }
   ],
   "source": [
    "a=10\n",
    "print(\"value of a is\",a+10)"
   ]
  },
  {
   "cell_type": "markdown",
   "metadata": {
    "colab_type": "text",
    "id": "f8L0yWAhDH28"
   },
   "source": [
    "# Numbers"
   ]
  },
  {
   "cell_type": "code",
   "execution_count": 22,
   "metadata": {
    "colab": {},
    "colab_type": "code",
    "id": "b5GoGg_3DH29"
   },
   "outputs": [],
   "source": [
    "x = 1    # int\n",
    "y = 2.8  # float\n",
    "z = 1j   # complex"
   ]
  },
  {
   "cell_type": "code",
   "execution_count": 23,
   "metadata": {
    "colab": {},
    "colab_type": "code",
    "id": "DinN8bz3DH3A",
    "outputId": "756f053b-c518-47eb-ae37-c8eac12da4f5"
   },
   "outputs": [
    {
     "name": "stdout",
     "output_type": "stream",
     "text": [
      "<class 'int'>\n",
      "<class 'float'>\n",
      "<class 'complex'>\n"
     ]
    }
   ],
   "source": [
    "print(type(x))\n",
    "print(type(y))\n",
    "print(type(z))"
   ]
  },
  {
   "cell_type": "code",
   "execution_count": 24,
   "metadata": {
    "colab": {},
    "colab_type": "code",
    "id": "swjKZU1jDH3H"
   },
   "outputs": [],
   "source": [
    "x=float(10)"
   ]
  },
  {
   "cell_type": "code",
   "execution_count": 25,
   "metadata": {
    "colab": {},
    "colab_type": "code",
    "id": "FKG5P03CDH3K",
    "outputId": "5a322790-2d8c-4359-d098-1fe9866ccf5b"
   },
   "outputs": [
    {
     "data": {
      "text/plain": [
       "10.0"
      ]
     },
     "execution_count": 25,
     "metadata": {},
     "output_type": "execute_result"
    }
   ],
   "source": [
    "x"
   ]
  },
  {
   "cell_type": "code",
   "execution_count": 26,
   "metadata": {
    "colab": {},
    "colab_type": "code",
    "id": "ndvvAYgyDH3N",
    "outputId": "016493e0-001d-408a-bcc3-512d4bccfdab"
   },
   "outputs": [
    {
     "name": "stdout",
     "output_type": "stream",
     "text": [
      "10.0\n",
      "10\n",
      "(10+0j)\n"
     ]
    }
   ],
   "source": [
    "#convert from int to float:\n",
    "a = float(x)\n",
    "\n",
    "#convert from float to int:\n",
    "b = int(x)\n",
    "\n",
    "#convert from int to complex:\n",
    "c = complex(x)\n",
    "\n",
    "print(a)\n",
    "print(b)\n",
    "print(c)"
   ]
  },
  {
   "cell_type": "code",
   "execution_count": 27,
   "metadata": {
    "colab": {},
    "colab_type": "code",
    "id": "i6inFrqiDH3R"
   },
   "outputs": [],
   "source": [
    "z=10"
   ]
  },
  {
   "cell_type": "code",
   "execution_count": 28,
   "metadata": {
    "colab": {},
    "colab_type": "code",
    "id": "Ci8BEcD0DH3V",
    "outputId": "7a925da9-acc5-4f2e-f894-4c200cb6cd2b"
   },
   "outputs": [
    {
     "data": {
      "text/plain": [
       "int"
      ]
     },
     "execution_count": 28,
     "metadata": {},
     "output_type": "execute_result"
    }
   ],
   "source": [
    "type(z)"
   ]
  },
  {
   "cell_type": "code",
   "execution_count": 29,
   "metadata": {
    "colab": {},
    "colab_type": "code",
    "id": "gU8TXf3DDH3Z"
   },
   "outputs": [],
   "source": [
    "z=str(z)"
   ]
  },
  {
   "cell_type": "code",
   "execution_count": 30,
   "metadata": {
    "colab": {},
    "colab_type": "code",
    "id": "EmilnKRVDH3d",
    "outputId": "40985f2f-b798-4392-b759-161ff8477c6d"
   },
   "outputs": [
    {
     "data": {
      "text/plain": [
       "'10'"
      ]
     },
     "execution_count": 30,
     "metadata": {},
     "output_type": "execute_result"
    }
   ],
   "source": [
    "z"
   ]
  },
  {
   "cell_type": "markdown",
   "metadata": {
    "colab_type": "text",
    "id": "-Cevu-_RDH3h"
   },
   "source": [
    "# Strings"
   ]
  },
  {
   "cell_type": "code",
   "execution_count": 31,
   "metadata": {
    "colab": {},
    "colab_type": "code",
    "id": "tO-lpQcsDH3h"
   },
   "outputs": [],
   "source": [
    "a=\"the world is awesome\""
   ]
  },
  {
   "cell_type": "code",
   "execution_count": 32,
   "metadata": {
    "colab": {},
    "colab_type": "code",
    "id": "vaFE23gJDH3l",
    "outputId": "3b21ee7a-30cf-4f65-fa8a-43ff23770721"
   },
   "outputs": [
    {
     "data": {
      "text/plain": [
       "'world'"
      ]
     },
     "execution_count": 32,
     "metadata": {},
     "output_type": "execute_result"
    }
   ],
   "source": [
    "#starts from 0\n",
    "a[4:9]"
   ]
  },
  {
   "cell_type": "code",
   "execution_count": 33,
   "metadata": {
    "colab": {},
    "colab_type": "code",
    "id": "M5Zuf-M4DH3o",
    "outputId": "26b958bd-aef3-4908-db0b-7e018e6210e1"
   },
   "outputs": [
    {
     "data": {
      "text/plain": [
       "'world is awesome'"
      ]
     },
     "execution_count": 33,
     "metadata": {},
     "output_type": "execute_result"
    }
   ],
   "source": [
    "#prints all becoz of 0 to: we didnot mention anything\n",
    "a[4:]"
   ]
  },
  {
   "cell_type": "code",
   "execution_count": 34,
   "metadata": {
    "colab": {},
    "colab_type": "code",
    "id": "yGqX0ExTDH3s",
    "outputId": "9e24ac69-d091-481f-8f4c-828853b598a3"
   },
   "outputs": [
    {
     "data": {
      "text/plain": [
       "'some'"
      ]
     },
     "execution_count": 34,
     "metadata": {},
     "output_type": "execute_result"
    }
   ],
   "source": [
    "a[16:20]"
   ]
  },
  {
   "cell_type": "code",
   "execution_count": 35,
   "metadata": {
    "colab": {},
    "colab_type": "code",
    "id": "8aC8eRRQDH3w"
   },
   "outputs": [],
   "source": [
    "a=a.capitalize()"
   ]
  },
  {
   "cell_type": "code",
   "execution_count": 36,
   "metadata": {
    "colab": {},
    "colab_type": "code",
    "id": "6phrzlncDH30",
    "outputId": "631781ef-b901-4a30-e2b4-955bc80ed510"
   },
   "outputs": [
    {
     "data": {
      "text/plain": [
       "'The world is awesome'"
      ]
     },
     "execution_count": 36,
     "metadata": {},
     "output_type": "execute_result"
    }
   ],
   "source": [
    "a"
   ]
  },
  {
   "cell_type": "code",
   "execution_count": 37,
   "metadata": {
    "colab": {},
    "colab_type": "code",
    "id": "oPagK8E_DH35",
    "outputId": "3645f631-b839-4f2b-f263-b596f15d190d"
   },
   "outputs": [
    {
     "data": {
      "text/plain": [
       "False"
      ]
     },
     "execution_count": 37,
     "metadata": {},
     "output_type": "execute_result"
    }
   ],
   "source": [
    "a.isdigit()"
   ]
  },
  {
   "cell_type": "code",
   "execution_count": 38,
   "metadata": {
    "colab": {},
    "colab_type": "code",
    "id": "wDi45-oaDH38",
    "outputId": "19d10d64-1fa4-482f-de94-ff22e14640a1"
   },
   "outputs": [
    {
     "data": {
      "text/plain": [
       "False"
      ]
     },
     "execution_count": 38,
     "metadata": {},
     "output_type": "execute_result"
    }
   ],
   "source": [
    "a.islower()"
   ]
  },
  {
   "cell_type": "code",
   "execution_count": 39,
   "metadata": {
    "colab": {},
    "colab_type": "code",
    "id": "K7azL8wjDH3_",
    "outputId": "728cef66-c358-4983-b976-233a2028ce4a"
   },
   "outputs": [
    {
     "data": {
      "text/plain": [
       "'the world is awesome'"
      ]
     },
     "execution_count": 39,
     "metadata": {},
     "output_type": "execute_result"
    }
   ],
   "source": [
    "a.lower()"
   ]
  },
  {
   "cell_type": "code",
   "execution_count": 40,
   "metadata": {
    "colab": {},
    "colab_type": "code",
    "id": "FT1OmymuDH4D",
    "outputId": "f8fc488a-5ef4-4387-96e2-664d4045c0b3"
   },
   "outputs": [
    {
     "data": {
      "text/plain": [
       "'THE WORLD IS AWESOME'"
      ]
     },
     "execution_count": 40,
     "metadata": {},
     "output_type": "execute_result"
    }
   ],
   "source": [
    "a.upper()"
   ]
  },
  {
   "cell_type": "code",
   "execution_count": 41,
   "metadata": {
    "colab": {},
    "colab_type": "code",
    "id": "i47NCrqPDH4H",
    "outputId": "4c797712-36de-4efb-b938-9198a664e7ed"
   },
   "outputs": [
    {
     "data": {
      "text/plain": [
       "'The world is awesome'"
      ]
     },
     "execution_count": 41,
     "metadata": {},
     "output_type": "execute_result"
    }
   ],
   "source": [
    "a"
   ]
  },
  {
   "cell_type": "code",
   "execution_count": 42,
   "metadata": {
    "colab": {},
    "colab_type": "code",
    "id": "GIEHxoS7DH4M"
   },
   "outputs": [],
   "source": [
    "a=a.replace('is','will be')"
   ]
  },
  {
   "cell_type": "code",
   "execution_count": 43,
   "metadata": {
    "colab": {},
    "colab_type": "code",
    "id": "Mart4gyjDH4S",
    "outputId": "81f7cbfe-2b1d-4b3d-f289-300fe4ed6ee8"
   },
   "outputs": [
    {
     "data": {
      "text/plain": [
       "'The world will be awesome'"
      ]
     },
     "execution_count": 43,
     "metadata": {},
     "output_type": "execute_result"
    }
   ],
   "source": [
    "a"
   ]
  },
  {
   "cell_type": "code",
   "execution_count": 44,
   "metadata": {
    "colab": {},
    "colab_type": "code",
    "id": "WEGi4z8qDH4W",
    "outputId": "a16de319-c66b-41c6-b3d9-2ee0e5db936d"
   },
   "outputs": [
    {
     "data": {
      "text/plain": [
       "0"
      ]
     },
     "execution_count": 44,
     "metadata": {},
     "output_type": "execute_result"
    }
   ],
   "source": [
    "a.find('T')"
   ]
  },
  {
   "cell_type": "code",
   "execution_count": 45,
   "metadata": {
    "colab": {},
    "colab_type": "code",
    "id": "frPPJSPzDH4a",
    "outputId": "c18c56f4-542a-403a-f42f-8ee5b2e9ead4"
   },
   "outputs": [
    {
     "data": {
      "text/plain": [
       "'The World Will Be Awesome'"
      ]
     },
     "execution_count": 45,
     "metadata": {},
     "output_type": "execute_result"
    }
   ],
   "source": [
    "a.title()"
   ]
  },
  {
   "cell_type": "code",
   "execution_count": 46,
   "metadata": {
    "colab": {},
    "colab_type": "code",
    "id": "69hy6AVzDH4c"
   },
   "outputs": [],
   "source": [
    "x=a.split()"
   ]
  },
  {
   "cell_type": "code",
   "execution_count": 47,
   "metadata": {
    "colab": {},
    "colab_type": "code",
    "id": "Qq_mFBQzDH4g",
    "outputId": "d445341d-548a-44e7-df0c-08c376f9dc64"
   },
   "outputs": [
    {
     "data": {
      "text/plain": [
       "['The', 'world', 'will', 'be', 'awesome']"
      ]
     },
     "execution_count": 47,
     "metadata": {},
     "output_type": "execute_result"
    }
   ],
   "source": [
    "x"
   ]
  },
  {
   "cell_type": "code",
   "execution_count": 48,
   "metadata": {
    "colab": {},
    "colab_type": "code",
    "id": "u2iHHF60DH4m",
    "outputId": "4f17206a-a1fa-404a-af4c-a70f423d91ba"
   },
   "outputs": [
    {
     "data": {
      "text/plain": [
       "list"
      ]
     },
     "execution_count": 48,
     "metadata": {},
     "output_type": "execute_result"
    }
   ],
   "source": [
    "type(x)"
   ]
  },
  {
   "cell_type": "markdown",
   "metadata": {
    "colab_type": "text",
    "id": "Dck5y2XmDH4s"
   },
   "source": [
    "# Operators"
   ]
  },
  {
   "cell_type": "code",
   "execution_count": 49,
   "metadata": {
    "colab": {},
    "colab_type": "code",
    "id": "5Mr-RmMSDH4t",
    "outputId": "63c5fd0f-c6d5-4aae-e8da-3f5025aafd4f"
   },
   "outputs": [
    {
     "data": {
      "text/plain": [
       "(4, 1, 8, 0.6666666666666666)"
      ]
     },
     "execution_count": 49,
     "metadata": {},
     "output_type": "execute_result"
    }
   ],
   "source": [
    "#Arithmetic Operator\n",
    "1+3,3-2,4*2,2/3"
   ]
  },
  {
   "cell_type": "code",
   "execution_count": 50,
   "metadata": {
    "colab": {},
    "colab_type": "code",
    "id": "sh06y85jDH44",
    "outputId": "fd7aed3e-e739-49ec-941b-8e18060722f6"
   },
   "outputs": [
    {
     "data": {
      "text/plain": [
       "10"
      ]
     },
     "execution_count": 50,
     "metadata": {},
     "output_type": "execute_result"
    }
   ],
   "source": [
    "#Assignment Operators\n",
    "a=10\n",
    "a"
   ]
  },
  {
   "cell_type": "code",
   "execution_count": 51,
   "metadata": {
    "colab": {},
    "colab_type": "code",
    "id": "sCUQOwwEDH4-",
    "outputId": "1a88a01b-1852-4d87-cce3-ed64388ee1b6"
   },
   "outputs": [
    {
     "data": {
      "text/plain": [
       "True"
      ]
     },
     "execution_count": 51,
     "metadata": {},
     "output_type": "execute_result"
    }
   ],
   "source": [
    "20==20"
   ]
  },
  {
   "cell_type": "code",
   "execution_count": 52,
   "metadata": {
    "colab": {},
    "colab_type": "code",
    "id": "gQ__4AavDH5D",
    "outputId": "32ddb10e-e6c9-431a-d351-6c79c6f371ad"
   },
   "outputs": [
    {
     "data": {
      "text/plain": [
       "False"
      ]
     },
     "execution_count": 52,
     "metadata": {},
     "output_type": "execute_result"
    }
   ],
   "source": [
    "a=10\n",
    "a!=10"
   ]
  },
  {
   "cell_type": "code",
   "execution_count": 53,
   "metadata": {
    "colab": {},
    "colab_type": "code",
    "id": "xfBskWt9DH5I"
   },
   "outputs": [],
   "source": [
    "a=a+1"
   ]
  },
  {
   "cell_type": "code",
   "execution_count": 54,
   "metadata": {
    "colab": {},
    "colab_type": "code",
    "id": "WdmDU4S2DH5M",
    "outputId": "37860985-40a5-4406-c8f3-db915fcc604e"
   },
   "outputs": [
    {
     "data": {
      "text/plain": [
       "11"
      ]
     },
     "execution_count": 54,
     "metadata": {},
     "output_type": "execute_result"
    }
   ],
   "source": [
    "a"
   ]
  },
  {
   "cell_type": "code",
   "execution_count": 55,
   "metadata": {
    "colab": {},
    "colab_type": "code",
    "id": "1eKPjRT7DH5P",
    "outputId": "129cd484-fa0e-460e-e40e-014835fa6592"
   },
   "outputs": [
    {
     "data": {
      "text/plain": [
       "False"
      ]
     },
     "execution_count": 55,
     "metadata": {},
     "output_type": "execute_result"
    }
   ],
   "source": [
    "# Comparison Operators\n",
    "#checks whether two side is equal\n",
    "a=10\n",
    "a==20"
   ]
  },
  {
   "cell_type": "code",
   "execution_count": 56,
   "metadata": {
    "colab": {},
    "colab_type": "code",
    "id": "20ss_U-9DH5X",
    "outputId": "ee5e791f-5578-443e-c8f2-83faaaf7f703"
   },
   "outputs": [
    {
     "data": {
      "text/plain": [
       "True"
      ]
     },
     "execution_count": 56,
     "metadata": {},
     "output_type": "execute_result"
    }
   ],
   "source": [
    "#checks whether two side are not equal\n",
    "a!=20"
   ]
  },
  {
   "cell_type": "code",
   "execution_count": 57,
   "metadata": {
    "colab": {},
    "colab_type": "code",
    "id": "fIEGjZrPDH5b"
   },
   "outputs": [],
   "source": [
    "a=10"
   ]
  },
  {
   "cell_type": "code",
   "execution_count": 58,
   "metadata": {
    "colab": {},
    "colab_type": "code",
    "id": "XgLnw0c-DH5e",
    "outputId": "d1f25989-1a59-44d5-b0f7-a055fb6207ce"
   },
   "outputs": [
    {
     "data": {
      "text/plain": [
       "False"
      ]
     },
     "execution_count": 58,
     "metadata": {},
     "output_type": "execute_result"
    }
   ],
   "source": [
    "# a is less then 5\n",
    "a < 5"
   ]
  },
  {
   "cell_type": "code",
   "execution_count": 59,
   "metadata": {
    "colab": {},
    "colab_type": "code",
    "id": "DQSKkPgrDH5g",
    "outputId": "24adce06-d944-467c-879a-b944bb481106"
   },
   "outputs": [
    {
     "data": {
      "text/plain": [
       "True"
      ]
     },
     "execution_count": 59,
     "metadata": {},
     "output_type": "execute_result"
    }
   ],
   "source": [
    "# a is graeter then 5\n",
    "a > 5"
   ]
  },
  {
   "cell_type": "code",
   "execution_count": 60,
   "metadata": {
    "colab": {},
    "colab_type": "code",
    "id": "cjSouZW9DH5l",
    "outputId": "2469bd08-e959-465d-8a4f-cc0e1557c652"
   },
   "outputs": [
    {
     "data": {
      "text/plain": [
       "False"
      ]
     },
     "execution_count": 60,
     "metadata": {},
     "output_type": "execute_result"
    }
   ],
   "source": [
    "a<10"
   ]
  },
  {
   "cell_type": "code",
   "execution_count": 61,
   "metadata": {
    "colab": {},
    "colab_type": "code",
    "id": "03mDBA-dDH5r",
    "outputId": "12ebda0a-7215-4a30-9d55-84c01d901d44"
   },
   "outputs": [
    {
     "data": {
      "text/plain": [
       "True"
      ]
     },
     "execution_count": 61,
     "metadata": {},
     "output_type": "execute_result"
    }
   ],
   "source": [
    "# a is less then (or) equal to 10 , so true\n",
    "a<=10"
   ]
  },
  {
   "cell_type": "code",
   "execution_count": 62,
   "metadata": {
    "colab": {},
    "colab_type": "code",
    "id": "ztqe8U-gDH5t"
   },
   "outputs": [],
   "source": [
    "#Logical Operators and , or , not\n",
    "x=10"
   ]
  },
  {
   "cell_type": "code",
   "execution_count": 63,
   "metadata": {
    "colab": {},
    "colab_type": "code",
    "id": "r_Q--4HVDH5v",
    "outputId": "3aafd881-a16c-45f5-fe9a-10007d781035"
   },
   "outputs": [
    {
     "data": {
      "text/plain": [
       "True"
      ]
     },
     "execution_count": 63,
     "metadata": {},
     "output_type": "execute_result"
    }
   ],
   "source": [
    "# if any one of them is true means return true\n",
    "x < 5 or x > 5"
   ]
  },
  {
   "cell_type": "code",
   "execution_count": 64,
   "metadata": {
    "colab": {},
    "colab_type": "code",
    "id": "wA0HsvmmDH5x",
    "outputId": "e8f7d4d8-8f53-43e1-c96b-769b28e814a4"
   },
   "outputs": [
    {
     "data": {
      "text/plain": [
       "False"
      ]
     },
     "execution_count": 64,
     "metadata": {},
     "output_type": "execute_result"
    }
   ],
   "source": [
    "# if any one of them is false means return false\n",
    "x < 5 and x > 5"
   ]
  },
  {
   "cell_type": "code",
   "execution_count": 65,
   "metadata": {
    "colab": {},
    "colab_type": "code",
    "id": "orVR9k4YDH51"
   },
   "outputs": [],
   "source": [
    "#Identity Operators\n",
    "x=10\n",
    "y=10"
   ]
  },
  {
   "cell_type": "code",
   "execution_count": 66,
   "metadata": {
    "colab": {},
    "colab_type": "code",
    "id": "wh3cqsrXDH54",
    "outputId": "c951b6ff-4882-4eaa-e9c0-72294c30aae3"
   },
   "outputs": [
    {
     "data": {
      "text/plain": [
       "True"
      ]
     },
     "execution_count": 66,
     "metadata": {},
     "output_type": "execute_result"
    }
   ],
   "source": [
    "x is y"
   ]
  },
  {
   "cell_type": "code",
   "execution_count": 67,
   "metadata": {
    "colab": {},
    "colab_type": "code",
    "id": "KB6aOrHBDH59",
    "outputId": "1926fb09-f348-4f41-bc65-a4e6dfe16ab8"
   },
   "outputs": [
    {
     "data": {
      "text/plain": [
       "False"
      ]
     },
     "execution_count": 67,
     "metadata": {},
     "output_type": "execute_result"
    }
   ],
   "source": [
    "x is not y"
   ]
  },
  {
   "cell_type": "code",
   "execution_count": 68,
   "metadata": {
    "colab": {},
    "colab_type": "code",
    "id": "5upDE5LvDH6A",
    "outputId": "603f434a-b02a-47d1-a58b-929873cd07ee"
   },
   "outputs": [
    {
     "data": {
      "text/plain": [
       "1"
      ]
     },
     "execution_count": 68,
     "metadata": {},
     "output_type": "execute_result"
    }
   ],
   "source": [
    "5%4"
   ]
  },
  {
   "cell_type": "code",
   "execution_count": 69,
   "metadata": {
    "colab": {},
    "colab_type": "code",
    "id": "RtzqcHiBDH6D"
   },
   "outputs": [],
   "source": [
    "im=10"
   ]
  },
  {
   "cell_type": "code",
   "execution_count": null,
   "metadata": {
    "colab": {},
    "colab_type": "code",
    "id": "kKgnVQCCDH6I"
   },
   "outputs": [],
   "source": []
  },
  {
   "cell_type": "code",
   "execution_count": null,
   "metadata": {
    "colab": {},
    "colab_type": "code",
    "id": "_QQ8SMqmDH6M"
   },
   "outputs": [],
   "source": []
  },
  {
   "cell_type": "code",
   "execution_count": null,
   "metadata": {
    "colab": {},
    "colab_type": "code",
    "id": "_qb2BLLWDH6Q"
   },
   "outputs": [],
   "source": []
  },
  {
   "cell_type": "markdown",
   "metadata": {
    "colab_type": "text",
    "id": "er-omuxNDH6S"
   },
   "source": [
    "# List\n",
    "(can be updated)"
   ]
  },
  {
   "cell_type": "markdown",
   "metadata": {
    "colab_type": "text",
    "id": "ySN1iXeBDH6T"
   },
   "source": [
    "![alt text](https://www.educative.io/api/edpresso/shot/6303728271360000/image/6097462668296192)"
   ]
  },
  {
   "cell_type": "code",
   "execution_count": 70,
   "metadata": {
    "colab": {},
    "colab_type": "code",
    "id": "inKU_ywkDH6V",
    "outputId": "2edd12f9-4b15-489d-b7e2-30cb8658d4d5"
   },
   "outputs": [
    {
     "name": "stdout",
     "output_type": "stream",
     "text": [
      "['apple', 'banana', 'cherry']\n"
     ]
    }
   ],
   "source": [
    "thislist = [\"apple\", \"banana\", \"cherry\"]\n",
    "print(thislist)"
   ]
  },
  {
   "cell_type": "code",
   "execution_count": 71,
   "metadata": {
    "colab": {},
    "colab_type": "code",
    "id": "esq6Jj36DH6b",
    "outputId": "c0d7734c-b345-4f68-81d6-feae53a5487b"
   },
   "outputs": [
    {
     "data": {
      "text/plain": [
       "True"
      ]
     },
     "execution_count": 71,
     "metadata": {},
     "output_type": "execute_result"
    }
   ],
   "source": [
    "\"apple\" in thislist"
   ]
  },
  {
   "cell_type": "code",
   "execution_count": 72,
   "metadata": {
    "colab": {},
    "colab_type": "code",
    "id": "_kPsI-10DH6d",
    "outputId": "5cc534a0-4426-4f2f-9b07-7d24207d7fe5"
   },
   "outputs": [
    {
     "data": {
      "text/plain": [
       "False"
      ]
     },
     "execution_count": 72,
     "metadata": {},
     "output_type": "execute_result"
    }
   ],
   "source": [
    "\"apple\" not in thislist"
   ]
  },
  {
   "cell_type": "code",
   "execution_count": 73,
   "metadata": {
    "colab": {},
    "colab_type": "code",
    "id": "hP12f-D_DH6f",
    "outputId": "8bde563d-d3e1-4dfe-b75f-55b7610f7222"
   },
   "outputs": [
    {
     "data": {
      "text/plain": [
       "'banana'"
      ]
     },
     "execution_count": 73,
     "metadata": {},
     "output_type": "execute_result"
    }
   ],
   "source": [
    "thislist[1]"
   ]
  },
  {
   "cell_type": "code",
   "execution_count": 74,
   "metadata": {
    "colab": {},
    "colab_type": "code",
    "id": "Muz64ekhDH6h",
    "outputId": "a0f76349-0b80-46ff-b384-8bd1304cf8ae"
   },
   "outputs": [
    {
     "data": {
      "text/plain": [
       "'banana'"
      ]
     },
     "execution_count": 74,
     "metadata": {},
     "output_type": "execute_result"
    }
   ],
   "source": [
    "thislist[1]"
   ]
  },
  {
   "cell_type": "code",
   "execution_count": 75,
   "metadata": {
    "colab": {},
    "colab_type": "code",
    "id": "WnVoJySZDH6o",
    "outputId": "c40c8149-58f9-416b-f55b-6afdbf0ca648"
   },
   "outputs": [
    {
     "data": {
      "text/plain": [
       "'apple'"
      ]
     },
     "execution_count": 75,
     "metadata": {},
     "output_type": "execute_result"
    }
   ],
   "source": [
    "thislist[0]"
   ]
  },
  {
   "cell_type": "code",
   "execution_count": 76,
   "metadata": {
    "colab": {},
    "colab_type": "code",
    "id": "5oAyvLg9DH6v",
    "outputId": "7bc4aa42-0632-444d-9531-5be15cee5943"
   },
   "outputs": [
    {
     "data": {
      "text/plain": [
       "'cherry'"
      ]
     },
     "execution_count": 76,
     "metadata": {},
     "output_type": "execute_result"
    }
   ],
   "source": [
    "thislist[2]"
   ]
  },
  {
   "cell_type": "code",
   "execution_count": 77,
   "metadata": {
    "colab": {},
    "colab_type": "code",
    "id": "ctR4qRd_DH6y"
   },
   "outputs": [],
   "source": [
    "x=\"orange\""
   ]
  },
  {
   "cell_type": "code",
   "execution_count": 78,
   "metadata": {
    "colab": {},
    "colab_type": "code",
    "id": "YE1e8JTNDH6z",
    "outputId": "1fa2f068-514e-410c-ddff-9fe42aa42476"
   },
   "outputs": [
    {
     "data": {
      "text/plain": [
       "['apple', 'banana', 'cherry']"
      ]
     },
     "execution_count": 78,
     "metadata": {},
     "output_type": "execute_result"
    }
   ],
   "source": [
    "thislist"
   ]
  },
  {
   "cell_type": "code",
   "execution_count": 79,
   "metadata": {
    "colab": {},
    "colab_type": "code",
    "id": "iMx6Uq0jDH63",
    "outputId": "4057df1e-c475-4c15-85ca-f307d6dd114b"
   },
   "outputs": [
    {
     "data": {
      "text/plain": [
       "['apple', 'banana', 'cherry']"
      ]
     },
     "execution_count": 79,
     "metadata": {},
     "output_type": "execute_result"
    }
   ],
   "source": [
    "thislist"
   ]
  },
  {
   "cell_type": "code",
   "execution_count": 80,
   "metadata": {
    "colab": {},
    "colab_type": "code",
    "id": "by6O-tnxDH68"
   },
   "outputs": [],
   "source": [
    "y=\"apple\""
   ]
  },
  {
   "cell_type": "code",
   "execution_count": 81,
   "metadata": {
    "colab": {},
    "colab_type": "code",
    "id": "k_0hJXPHDH7B"
   },
   "outputs": [],
   "source": [
    "thislist.append(y)"
   ]
  },
  {
   "cell_type": "code",
   "execution_count": 82,
   "metadata": {
    "colab": {},
    "colab_type": "code",
    "id": "in2NVxiJDH7D",
    "outputId": "1e6fcaf2-462d-45f5-ab8b-0446540f2b41"
   },
   "outputs": [
    {
     "data": {
      "text/plain": [
       "['apple', 'banana', 'cherry', 'apple']"
      ]
     },
     "execution_count": 82,
     "metadata": {},
     "output_type": "execute_result"
    }
   ],
   "source": [
    "thislist"
   ]
  },
  {
   "cell_type": "code",
   "execution_count": 83,
   "metadata": {
    "colab": {},
    "colab_type": "code",
    "id": "Op07O2HgDH7J"
   },
   "outputs": [],
   "source": [
    "thislist.insert(0,y)"
   ]
  },
  {
   "cell_type": "code",
   "execution_count": 84,
   "metadata": {
    "colab": {},
    "colab_type": "code",
    "id": "AxKQIrRcDH7U",
    "outputId": "80e05673-6a84-4e5f-d53f-1cff9d8dae1b"
   },
   "outputs": [
    {
     "data": {
      "text/plain": [
       "['apple', 'apple', 'banana', 'cherry', 'apple']"
      ]
     },
     "execution_count": 84,
     "metadata": {},
     "output_type": "execute_result"
    }
   ],
   "source": [
    "thislist"
   ]
  },
  {
   "cell_type": "code",
   "execution_count": 85,
   "metadata": {
    "colab": {},
    "colab_type": "code",
    "id": "OGT0DKzRDH7Z"
   },
   "outputs": [],
   "source": [
    "thislist.remove(\"banana\")"
   ]
  },
  {
   "cell_type": "code",
   "execution_count": 86,
   "metadata": {
    "colab": {},
    "colab_type": "code",
    "id": "q8XmossgDH7d",
    "outputId": "3c30c7e9-f273-4d27-dbf0-83100707a269"
   },
   "outputs": [
    {
     "data": {
      "text/plain": [
       "['apple', 'apple', 'cherry', 'apple']"
      ]
     },
     "execution_count": 86,
     "metadata": {},
     "output_type": "execute_result"
    }
   ],
   "source": [
    "thislist"
   ]
  },
  {
   "cell_type": "code",
   "execution_count": 87,
   "metadata": {
    "colab": {},
    "colab_type": "code",
    "id": "VVa-GSF4DH7g"
   },
   "outputs": [],
   "source": [
    "thislist.reverse()"
   ]
  },
  {
   "cell_type": "code",
   "execution_count": 88,
   "metadata": {
    "colab": {},
    "colab_type": "code",
    "id": "V18SQtU6DH7j",
    "outputId": "1d60b811-3dcc-41fc-ca0f-a3a26f97fe44"
   },
   "outputs": [
    {
     "data": {
      "text/plain": [
       "['apple', 'cherry', 'apple', 'apple']"
      ]
     },
     "execution_count": 88,
     "metadata": {},
     "output_type": "execute_result"
    }
   ],
   "source": [
    "thislist"
   ]
  },
  {
   "cell_type": "markdown",
   "metadata": {
    "colab_type": "text",
    "id": "Hu91rSAoDH7m"
   },
   "source": [
    "# Tuples\n",
    "(can not be updated)"
   ]
  },
  {
   "cell_type": "code",
   "execution_count": 89,
   "metadata": {
    "colab": {},
    "colab_type": "code",
    "id": "ISAVByN2DH7n",
    "outputId": "5e1c468a-dd74-45ba-ad48-7f00ed7e05e8"
   },
   "outputs": [
    {
     "name": "stdout",
     "output_type": "stream",
     "text": [
      "('apple', 'apple', 'banana', 'cherry')\n"
     ]
    }
   ],
   "source": [
    "thistuple = (\"apple\",\"apple\", \"banana\", \"cherry\")\n",
    "print(thistuple)"
   ]
  },
  {
   "cell_type": "code",
   "execution_count": 90,
   "metadata": {
    "colab": {},
    "colab_type": "code",
    "id": "VWEUbEiODH7q",
    "outputId": "5a4ab6c5-8081-4ee5-fb78-4ad5b6f7c750"
   },
   "outputs": [
    {
     "data": {
      "text/plain": [
       "0"
      ]
     },
     "execution_count": 90,
     "metadata": {},
     "output_type": "execute_result"
    }
   ],
   "source": [
    "thistuple.index(\"apple\")"
   ]
  },
  {
   "cell_type": "code",
   "execution_count": 91,
   "metadata": {
    "colab": {},
    "colab_type": "code",
    "id": "0LIHt0-QDH79"
   },
   "outputs": [],
   "source": [
    "a=set(thistuple)"
   ]
  },
  {
   "cell_type": "code",
   "execution_count": 92,
   "metadata": {
    "colab": {},
    "colab_type": "code",
    "id": "isyPqtGjDH8A",
    "outputId": "f7b1525d-c7ad-481e-f46f-ba80280946e5"
   },
   "outputs": [
    {
     "data": {
      "text/plain": [
       "{'apple', 'banana', 'cherry'}"
      ]
     },
     "execution_count": 92,
     "metadata": {},
     "output_type": "execute_result"
    }
   ],
   "source": [
    "a"
   ]
  },
  {
   "cell_type": "markdown",
   "metadata": {
    "colab_type": "text",
    "id": "mteujJpYDH8E"
   },
   "source": [
    "# Dictionary"
   ]
  },
  {
   "cell_type": "markdown",
   "metadata": {
    "colab_type": "text",
    "id": "KldWD1jlDH8F"
   },
   "source": [
    "![alt text](https://lh3.googleusercontent.com/proxy/8iB03a_bdFZa3zWX-8lJogg3mD93X_EcRT8EiM8feCa0vuznP7ZAKLsNpWFqdpee3ebpNxFuPFgRZoB0xeEuXNveA4xEQGntmTWr6GS0hZQ)"
   ]
  },
  {
   "cell_type": "code",
   "execution_count": 93,
   "metadata": {
    "colab": {},
    "colab_type": "code",
    "id": "5PizlSdFDH8G",
    "outputId": "a3e63d20-badf-48a1-e7ee-73578363b3bd"
   },
   "outputs": [
    {
     "name": "stdout",
     "output_type": "stream",
     "text": [
      "{'brand': 'Ford', 'model': 'Mustang', 'year': 1964}\n"
     ]
    }
   ],
   "source": [
    "thisdict = {\n",
    "  \"brand\": \"Ford\",\n",
    "  \"model\": \"Mustang\",\n",
    "  \"year\": 1964\n",
    "}\n",
    "print(thisdict)"
   ]
  },
  {
   "cell_type": "code",
   "execution_count": 94,
   "metadata": {
    "colab": {},
    "colab_type": "code",
    "id": "QkOnaFlpDH8J",
    "outputId": "08c9738d-855c-4396-8d9e-e4e8e32c4878"
   },
   "outputs": [
    {
     "data": {
      "text/plain": [
       "dict_items([('brand', 'Ford'), ('model', 'Mustang'), ('year', 1964)])"
      ]
     },
     "execution_count": 94,
     "metadata": {},
     "output_type": "execute_result"
    }
   ],
   "source": [
    "thisdict.items()"
   ]
  },
  {
   "cell_type": "code",
   "execution_count": 95,
   "metadata": {
    "colab": {},
    "colab_type": "code",
    "id": "RCp2sBGfDH8N",
    "outputId": "b6413e39-df44-4103-d260-79bed6d51857"
   },
   "outputs": [
    {
     "data": {
      "text/plain": [
       "dict_keys(['brand', 'model', 'year'])"
      ]
     },
     "execution_count": 95,
     "metadata": {},
     "output_type": "execute_result"
    }
   ],
   "source": [
    "thisdict.keys()"
   ]
  },
  {
   "cell_type": "code",
   "execution_count": 96,
   "metadata": {
    "colab": {},
    "colab_type": "code",
    "id": "1IR2k01QDH8S",
    "outputId": "f6e2876e-92bb-4c7a-a451-7b22fb8e884b"
   },
   "outputs": [
    {
     "data": {
      "text/plain": [
       "dict_values(['Ford', 'Mustang', 1964])"
      ]
     },
     "execution_count": 96,
     "metadata": {},
     "output_type": "execute_result"
    }
   ],
   "source": [
    "thisdict.values()"
   ]
  },
  {
   "cell_type": "code",
   "execution_count": 97,
   "metadata": {
    "colab": {},
    "colab_type": "code",
    "id": "pcICwaAbDH8W",
    "outputId": "b4da84a5-d759-4c81-d48f-615c773c2e4d"
   },
   "outputs": [
    {
     "data": {
      "text/plain": [
       "'Mustang'"
      ]
     },
     "execution_count": 97,
     "metadata": {},
     "output_type": "execute_result"
    }
   ],
   "source": [
    "thisdict[\"model\"]"
   ]
  },
  {
   "cell_type": "code",
   "execution_count": 98,
   "metadata": {
    "colab": {},
    "colab_type": "code",
    "id": "0H-YWTPADH8Z",
    "outputId": "821e9ce9-d657-4bb7-9003-eb015679a1ea"
   },
   "outputs": [
    {
     "data": {
      "text/plain": [
       "{'brand': 'Ford', 'model': 'Mustang', 'year': 1964}"
      ]
     },
     "execution_count": 98,
     "metadata": {},
     "output_type": "execute_result"
    }
   ],
   "source": [
    "thisdict"
   ]
  },
  {
   "cell_type": "markdown",
   "metadata": {
    "colab_type": "text",
    "id": "khiCWSlUDH8e"
   },
   "source": [
    "# Conditional Statements"
   ]
  },
  {
   "cell_type": "markdown",
   "metadata": {
    "colab_type": "text",
    "id": "Lx_W_tDBDH8f"
   },
   "source": [
    "![alt text](https://i.pinimg.com/originals/85/4e/64/854e641c2f84ebe66f5bebad5d9810c5.png)"
   ]
  },
  {
   "cell_type": "code",
   "execution_count": 99,
   "metadata": {
    "colab": {},
    "colab_type": "code",
    "id": "Jv5nEagJDH8f"
   },
   "outputs": [],
   "source": [
    "a=10\n",
    "b=20\n",
    "c=30"
   ]
  },
  {
   "cell_type": "code",
   "execution_count": 100,
   "metadata": {
    "colab": {},
    "colab_type": "code",
    "id": "NePL4JFdDH8h",
    "outputId": "695d9152-924b-49d7-ab2e-2a44b29b5f8c"
   },
   "outputs": [
    {
     "name": "stdout",
     "output_type": "stream",
     "text": [
      "a is 10\n",
      "b is 20\n"
     ]
    }
   ],
   "source": [
    "if a==10:\n",
    "    print(\"a is 10\")\n",
    "    if b==20:\n",
    "        print(\"b is 20\")\n",
    "else:\n",
    "    print(\"blablablaaaaa\")"
   ]
  },
  {
   "cell_type": "code",
   "execution_count": 101,
   "metadata": {
    "colab": {},
    "colab_type": "code",
    "id": "ydyVXFULDH8l",
    "outputId": "aa1df6dc-61ea-42d6-dc3d-26edcbd03a62"
   },
   "outputs": [
    {
     "name": "stdout",
     "output_type": "stream",
     "text": [
      "a & b are 10 and 20 \n"
     ]
    }
   ],
   "source": [
    "a=10\n",
    "b=30\n",
    "if a<20 and b>20:\n",
    "    print(\"a & b are 10 and 20 \")\n",
    "else:\n",
    "    print(\"just\")"
   ]
  },
  {
   "cell_type": "code",
   "execution_count": 102,
   "metadata": {
    "colab": {
     "base_uri": "https://localhost:8080/",
     "height": 34
    },
    "colab_type": "code",
    "id": "h0zKVzz5Fy--",
    "outputId": "22a9232b-a1a3-48d5-da65-34d4be681d32"
   },
   "outputs": [
    {
     "name": "stdout",
     "output_type": "stream",
     "text": [
      "a & b are 10 and 20 \n"
     ]
    }
   ],
   "source": [
    "a=10\n",
    "b=30\n",
    "if a==20:\n",
    "  print(\"just\")\n",
    "    \n",
    "elif a<20 and b>20:\n",
    "  print(\"a & b are 10 and 20 \")"
   ]
  },
  {
   "cell_type": "markdown",
   "metadata": {
    "colab_type": "text",
    "id": "hoOFHssKDH8q"
   },
   "source": [
    "# Looping Statement"
   ]
  },
  {
   "cell_type": "markdown",
   "metadata": {
    "colab_type": "text",
    "id": "gO0FX9o5GDJq"
   },
   "source": [
    "![alt text](https://cdn.askpython.com/wp-content/uploads/2019/07/flow-chart-while-loop.jpg)"
   ]
  },
  {
   "cell_type": "code",
   "execution_count": 103,
   "metadata": {
    "colab": {},
    "colab_type": "code",
    "id": "t4ZpnvAJDH8r",
    "outputId": "04e78d5d-a256-4fdd-a8c8-18cc379651fa"
   },
   "outputs": [
    {
     "name": "stdout",
     "output_type": "stream",
     "text": [
      "0\n",
      "1\n",
      "2\n",
      "3\n",
      "4\n",
      "5\n",
      "6\n",
      "7\n",
      "8\n",
      "9\n"
     ]
    }
   ],
   "source": [
    "a=0\n",
    "for i in range(0,10):\n",
    "    print(a)\n",
    "    a=a+1"
   ]
  },
  {
   "cell_type": "code",
   "execution_count": 104,
   "metadata": {
    "colab": {},
    "colab_type": "code",
    "id": "DExk1w59DH8u",
    "outputId": "f4adf168-1217-46b1-de59-33f4735c1996"
   },
   "outputs": [
    {
     "name": "stdout",
     "output_type": "stream",
     "text": [
      "0\n",
      "1\n",
      "2\n",
      "3\n",
      "4\n",
      "5\n",
      "6\n",
      "7\n",
      "8\n",
      "9\n"
     ]
    }
   ],
   "source": [
    "a=0\n",
    "while a<10:\n",
    "    print(a)\n",
    "    a=a+1"
   ]
  },
  {
   "cell_type": "markdown",
   "metadata": {
    "colab_type": "text",
    "id": "kdgidgdKDH8z"
   },
   "source": [
    "![image.png](attachment:image.png)"
   ]
  },
  {
   "cell_type": "code",
   "execution_count": 105,
   "metadata": {
    "colab": {},
    "colab_type": "code",
    "id": "jdRBdVORDH8z",
    "outputId": "7b941b55-0b5f-4925-f40f-7d333a2254b8"
   },
   "outputs": [
    {
     "name": "stdout",
     "output_type": "stream",
     "text": [
      "0\n",
      "1\n",
      "2\n",
      "3\n",
      "4\n",
      "6\n",
      "7\n",
      "8\n",
      "9\n"
     ]
    }
   ],
   "source": [
    "for i in range(0,10,1):\n",
    "    if i==5:\n",
    "        continue\n",
    "    print(i)"
   ]
  },
  {
   "cell_type": "markdown",
   "metadata": {
    "colab_type": "text",
    "id": "Sq3VuC-bDH85"
   },
   "source": [
    "# Function"
   ]
  },
  {
   "cell_type": "markdown",
   "metadata": {
    "colab_type": "text",
    "id": "c6Q8_t0BDH85"
   },
   "source": [
    "![alt text](https://encrypted-tbn0.gstatic.com/images?q=tbn%3AANd9GcTQJ16iX1OCol0VorD-hFz91a0n3jsIpk2W8aAvwp4od7qvqteR&usqp=CAU)"
   ]
  },
  {
   "cell_type": "code",
   "execution_count": 106,
   "metadata": {
    "colab": {},
    "colab_type": "code",
    "id": "DVrwUjVcDH86"
   },
   "outputs": [],
   "source": [
    "def mine(a=8):\n",
    "    print(\"just like that\",a+2)"
   ]
  },
  {
   "cell_type": "code",
   "execution_count": 107,
   "metadata": {
    "colab": {},
    "colab_type": "code",
    "id": "U0PA5GxHDH8-",
    "outputId": "5df5fb2b-aa0b-41dd-9b10-541979d7ee7c"
   },
   "outputs": [
    {
     "name": "stdout",
     "output_type": "stream",
     "text": [
      "just like that 12\n"
     ]
    }
   ],
   "source": [
    "a=mine(10)"
   ]
  },
  {
   "cell_type": "code",
   "execution_count": 108,
   "metadata": {
    "colab": {},
    "colab_type": "code",
    "id": "xQ0FnhllDH9G"
   },
   "outputs": [],
   "source": [
    "a"
   ]
  },
  {
   "cell_type": "code",
   "execution_count": 109,
   "metadata": {
    "colab": {},
    "colab_type": "code",
    "id": "ni5WSaeRDH9J"
   },
   "outputs": [],
   "source": [
    "def my_function(x):\n",
    "    \n",
    "    a=x+56\n",
    "    return a "
   ]
  },
  {
   "cell_type": "code",
   "execution_count": 110,
   "metadata": {
    "colab": {},
    "colab_type": "code",
    "id": "i2b0-utxDH9O"
   },
   "outputs": [],
   "source": [
    "a=my_function(3)"
   ]
  },
  {
   "cell_type": "code",
   "execution_count": 111,
   "metadata": {
    "colab": {},
    "colab_type": "code",
    "id": "1ibtJiBaDH9Q",
    "outputId": "e7214844-102a-4588-9e70-3ed95f045538"
   },
   "outputs": [
    {
     "data": {
      "text/plain": [
       "59"
      ]
     },
     "execution_count": 111,
     "metadata": {},
     "output_type": "execute_result"
    }
   ],
   "source": [
    "a"
   ]
  },
  {
   "cell_type": "markdown",
   "metadata": {
    "colab_type": "text",
    "id": "vjZ_kYtiDH9V"
   },
   "source": [
    "# Lambda function"
   ]
  },
  {
   "cell_type": "markdown",
   "metadata": {
    "colab_type": "text",
    "id": "7zI6tVbJGteb"
   },
   "source": [
    "![alt text](https://i1.faceprep.in/Companies-1/python-lambda-functions-new.png)"
   ]
  },
  {
   "cell_type": "code",
   "execution_count": 112,
   "metadata": {
    "colab": {},
    "colab_type": "code",
    "id": "-EkCo7N_DH9W"
   },
   "outputs": [],
   "source": [
    "x = lambda b:b + 100"
   ]
  },
  {
   "cell_type": "code",
   "execution_count": 113,
   "metadata": {
    "colab": {},
    "colab_type": "code",
    "id": "S37_efNtDH9Y",
    "outputId": "c756daaa-544b-43a5-d6a1-48973a7597da"
   },
   "outputs": [
    {
     "data": {
      "text/plain": [
       "101"
      ]
     },
     "execution_count": 113,
     "metadata": {},
     "output_type": "execute_result"
    }
   ],
   "source": [
    "x(1)"
   ]
  },
  {
   "cell_type": "code",
   "execution_count": 114,
   "metadata": {
    "colab": {},
    "colab_type": "code",
    "id": "wXOLpjknDH9b",
    "outputId": "0fd56d26-29d2-46ee-e0f8-d497e4736de8"
   },
   "outputs": [
    {
     "data": {
      "text/plain": [
       "'Sun Apr 12 17:24:40 2020'"
      ]
     },
     "execution_count": 114,
     "metadata": {},
     "output_type": "execute_result"
    }
   ],
   "source": [
    "import time\n",
    "time.asctime()"
   ]
  },
  {
   "cell_type": "code",
   "execution_count": 115,
   "metadata": {
    "colab": {},
    "colab_type": "code",
    "id": "hRoB9y57DH9e",
    "outputId": "97786d01-2c97-4856-b0b4-0d7cf6ad7d78"
   },
   "outputs": [
    {
     "data": {
      "text/plain": [
       "105"
      ]
     },
     "execution_count": 115,
     "metadata": {},
     "output_type": "execute_result"
    }
   ],
   "source": [
    "x(5)"
   ]
  },
  {
   "cell_type": "markdown",
   "metadata": {
    "colab_type": "text",
    "id": "ZZ7H1VGrDH9h"
   },
   "source": [
    "# CLASS AND OBJECTS"
   ]
  },
  {
   "cell_type": "markdown",
   "metadata": {
    "colab_type": "text",
    "id": "HyWkGU6dHD08"
   },
   "source": [
    "![alt text](https://www.wikitechy.com/tutorials/python/img/python-images/python-oop-car-class-and-object.png)"
   ]
  },
  {
   "cell_type": "code",
   "execution_count": 116,
   "metadata": {
    "colab": {},
    "colab_type": "code",
    "id": "BfwoGzW9DH9h"
   },
   "outputs": [],
   "source": [
    "class calci:\n",
    "    \n",
    "    def add(self,a,b):\n",
    "        print(a+b)\n",
    "    def sub(self,a,b):\n",
    "        print(a-b)"
   ]
  },
  {
   "cell_type": "code",
   "execution_count": 117,
   "metadata": {
    "colab": {},
    "colab_type": "code",
    "id": "c7y6AGi5DH9m"
   },
   "outputs": [],
   "source": [
    "obj=calci()\n"
   ]
  },
  {
   "cell_type": "code",
   "execution_count": 118,
   "metadata": {
    "colab": {},
    "colab_type": "code",
    "id": "gOW7dfydDH9p"
   },
   "outputs": [],
   "source": [
    "class Person:\n",
    "    # __init__ is default function u can use it or avoid it but it will run auto by after creating object\n",
    "    def __init__(self):\n",
    "        print(\"ok\")"
   ]
  },
  {
   "cell_type": "code",
   "execution_count": 119,
   "metadata": {
    "colab": {},
    "colab_type": "code",
    "id": "xHoB9a4XDH9r",
    "outputId": "fd85b34e-ca40-42a8-ef7f-29cc3c70f057"
   },
   "outputs": [
    {
     "name": "stdout",
     "output_type": "stream",
     "text": [
      "ok\n"
     ]
    }
   ],
   "source": [
    "o=Person()"
   ]
  },
  {
   "cell_type": "code",
   "execution_count": 120,
   "metadata": {
    "colab": {},
    "colab_type": "code",
    "id": "9uYBAJNRDH9u"
   },
   "outputs": [],
   "source": [
    "class Person:\n",
    "    # __init__ is default function u can use it or avoid it but it will run auto by after creating object\n",
    "    def add(self, name):\n",
    "        self.name = name\n",
    "        \n",
    "        \n",
    "    def myfunc(self):\n",
    "        print(\"Hello my name is \" + self.name)\n",
    "\n"
   ]
  },
  {
   "cell_type": "code",
   "execution_count": 121,
   "metadata": {
    "colab": {},
    "colab_type": "code",
    "id": "Il-AprCVDH90"
   },
   "outputs": [],
   "source": [
    "p1 = Person()\n",
    "p1.add(\"stsfaroz\")"
   ]
  },
  {
   "cell_type": "code",
   "execution_count": 122,
   "metadata": {
    "colab": {},
    "colab_type": "code",
    "id": "_nDtLq2uDH94",
    "outputId": "b7ca9ba2-671a-4af3-8340-588724aed505"
   },
   "outputs": [
    {
     "name": "stdout",
     "output_type": "stream",
     "text": [
      "Hello my name is stsfaroz\n"
     ]
    }
   ],
   "source": [
    "p1.myfunc()"
   ]
  },
  {
   "cell_type": "markdown",
   "metadata": {
    "colab_type": "text",
    "id": "KuY2V8EeDH9-"
   },
   "source": [
    "# iterators"
   ]
  },
  {
   "cell_type": "code",
   "execution_count": 123,
   "metadata": {
    "colab": {},
    "colab_type": "code",
    "id": "0Gn9hvznDH9_",
    "outputId": "013dc15b-6dac-405c-bd2f-f7c330348872"
   },
   "outputs": [
    {
     "name": "stdout",
     "output_type": "stream",
     "text": [
      "apple\n"
     ]
    }
   ],
   "source": [
    "mytuple = (\"apple\", \"banana\", \"cherry\")\n",
    "\n",
    "myit = iter(mytuple)\n",
    "\n",
    "print(next(myit))"
   ]
  },
  {
   "cell_type": "code",
   "execution_count": 124,
   "metadata": {
    "colab": {},
    "colab_type": "code",
    "id": "5ytjm29tDH-H",
    "outputId": "a25571aa-931c-48ed-ead4-bcbb33f41e08"
   },
   "outputs": [
    {
     "name": "stdout",
     "output_type": "stream",
     "text": [
      "banana\n"
     ]
    }
   ],
   "source": [
    "print(next(myit))\n"
   ]
  },
  {
   "cell_type": "code",
   "execution_count": 125,
   "metadata": {
    "colab": {},
    "colab_type": "code",
    "id": "NcQSTdA3DH-J",
    "outputId": "26cc4749-3d6b-4210-987e-8132b8f50a47"
   },
   "outputs": [
    {
     "name": "stdout",
     "output_type": "stream",
     "text": [
      "cherry\n"
     ]
    }
   ],
   "source": [
    "print(next(myit))\n"
   ]
  },
  {
   "cell_type": "code",
   "execution_count": 126,
   "metadata": {
    "colab": {},
    "colab_type": "code",
    "id": "6HKIu8NTDH-T",
    "outputId": "008b0a4e-3d15-4bc1-9561-daf9e6fbd12d"
   },
   "outputs": [
    {
     "ename": "StopIteration",
     "evalue": "",
     "output_type": "error",
     "traceback": [
      "\u001b[0;31m---------------------------------------------------------------------------\u001b[0m",
      "\u001b[0;31mStopIteration\u001b[0m                             Traceback (most recent call last)",
      "\u001b[0;32m<ipython-input-126-34d95bba9ffc>\u001b[0m in \u001b[0;36m<module>\u001b[0;34m\u001b[0m\n\u001b[0;32m----> 1\u001b[0;31m \u001b[0mprint\u001b[0m\u001b[0;34m(\u001b[0m\u001b[0mnext\u001b[0m\u001b[0;34m(\u001b[0m\u001b[0mmyit\u001b[0m\u001b[0;34m)\u001b[0m\u001b[0;34m)\u001b[0m\u001b[0;34m\u001b[0m\u001b[0;34m\u001b[0m\u001b[0m\n\u001b[0m\u001b[1;32m      2\u001b[0m \u001b[0;31m#after iterating all it will show you the error only\u001b[0m\u001b[0;34m\u001b[0m\u001b[0;34m\u001b[0m\u001b[0;34m\u001b[0m\u001b[0m\n",
      "\u001b[0;31mStopIteration\u001b[0m: "
     ]
    }
   ],
   "source": [
    "print(next(myit))\n",
    "#after iterating all it will show you the error only"
   ]
  },
  {
   "cell_type": "markdown",
   "metadata": {
    "colab_type": "text",
    "id": "1_iUbCmWDH-W"
   },
   "source": [
    "# Exception Handling"
   ]
  },
  {
   "cell_type": "markdown",
   "metadata": {
    "colab_type": "text",
    "id": "hpb3rxxnDH-X"
   },
   "source": [
    "![alt text](https://res.cloudinary.com/dchysltjf/image/upload/f_auto,q_auto:best/v1574436354/error3.png)"
   ]
  },
  {
   "cell_type": "code",
   "execution_count": 127,
   "metadata": {
    "colab": {},
    "colab_type": "code",
    "id": "GATIVRWPDH-X",
    "outputId": "a671ae7c-6724-4d5f-ebc2-036a8da90b09"
   },
   "outputs": [
    {
     "name": "stdout",
     "output_type": "stream",
     "text": [
      "value of c is  1.0\n",
      "if not error ill come\n",
      "this prints whatever happens\n"
     ]
    }
   ],
   "source": [
    "try:\n",
    "    a=10\n",
    "    b=10\n",
    "    c=a/b\n",
    "    print(\"value of c is \" ,c )\n",
    "    \n",
    "    \n",
    "except:\n",
    "    print('you cant divide a number by zero\\n')\n",
    "    \n",
    "    \n",
    "    \n",
    "    \n",
    "else:\n",
    "    print(\"if not error ill come\")\n",
    "    \n",
    "    \n",
    "    \n",
    "    \n",
    "    \n",
    "    \n",
    "finally:\n",
    "    print(\"this prints whatever happens\")"
   ]
  },
  {
   "cell_type": "markdown",
   "metadata": {
    "colab_type": "text",
    "id": "tRc5y8JqDH-Z"
   },
   "source": [
    "# Example:"
   ]
  },
  {
   "cell_type": "code",
   "execution_count": 134,
   "metadata": {
    "colab": {},
    "colab_type": "code",
    "id": "et7Xt6HlDH-a"
   },
   "outputs": [],
   "source": [
    "class calci:\n",
    "    def __init__(self):\n",
    "        print(\"Welcome to my calci\")\n",
    "    def add(self,a,b):\n",
    "        print(\"adding\",a+b)\n",
    "    def sub(self,a,b):\n",
    "        print(\"sub : \",a-b)\n",
    "    def mul(self,a,b):\n",
    "        print(\"mul :\",a*b)\n",
    "    def div(self,a,b):\n",
    "        print(\"div :\",a/b)"
   ]
  },
  {
   "cell_type": "code",
   "execution_count": 135,
   "metadata": {
    "colab": {},
    "colab_type": "code",
    "id": "rOcWmez1DH-n",
    "outputId": "191d58bc-9f7a-4ed8-f823-92ca170e38f1"
   },
   "outputs": [
    {
     "name": "stdout",
     "output_type": "stream",
     "text": [
      "Welcome to my calci\n",
      "div : 0.6666666666666666\n"
     ]
    }
   ],
   "source": [
    "obj=calci()\n",
    "obj.div(2,3)"
   ]
  },
  {
   "cell_type": "code",
   "execution_count": 136,
   "metadata": {
    "colab": {},
    "colab_type": "code",
    "id": "TlCjp6AmDH-q",
    "outputId": "33453939-c3d8-438f-e2b7-caa45874e171"
   },
   "outputs": [
    {
     "name": "stdout",
     "output_type": "stream",
     "text": [
      "give value :12\n"
     ]
    }
   ],
   "source": [
    "a=int(input(\"give value :\"))"
   ]
  },
  {
   "cell_type": "code",
   "execution_count": 137,
   "metadata": {
    "colab": {},
    "colab_type": "code",
    "id": "E1bibX9DDH-w",
    "outputId": "8d171c44-70c1-4752-dea6-a274fd6bfd85"
   },
   "outputs": [
    {
     "data": {
      "text/plain": [
       "12"
      ]
     },
     "execution_count": 137,
     "metadata": {},
     "output_type": "execute_result"
    }
   ],
   "source": [
    "a"
   ]
  },
  {
   "cell_type": "code",
   "execution_count": 139,
   "metadata": {
    "colab": {},
    "colab_type": "code",
    "id": "eTG9vOLZDH-2",
    "outputId": "7ce16f30-f96e-423f-e237-ec00180055b1"
   },
   "outputs": [
    {
     "name": "stdout",
     "output_type": "stream",
     "text": [
      "Enter the a : 12\n",
      "Enter the b : 12\n",
      "select the operation + , - ,* ,/ : *\n",
      "mul : 144\n"
     ]
    }
   ],
   "source": [
    "#for taking input as integer\n",
    "inp1=int(input(\"Enter the a : \"))\n",
    "inp2=int(input(\"Enter the b : \"))\n",
    "#for taking integer as string\n",
    "op=input(\"select the operation + , - ,* ,/ : \")\n",
    "if op==\"+\":\n",
    "    obj.add(inp1,inp2)\n",
    "elif op==\"-\":\n",
    "    obj.sub(inp1,inp2)\n",
    "elif op==\"*\":\n",
    "    obj.mul(inp1,inp2)\n",
    "elif op==\"/\":\n",
    "    obj.div(inp1,inp2)\n"
   ]
  },
  {
   "cell_type": "code",
   "execution_count": 141,
   "metadata": {
    "colab": {},
    "colab_type": "code",
    "id": "ZrfLjtFkDH-6",
    "outputId": "33495cfd-4cbe-4188-9df6-2bb38b234503"
   },
   "outputs": [
    {
     "name": "stdout",
     "output_type": "stream",
     "text": [
      "Enter the a : \n",
      "21\n"
     ]
    }
   ],
   "source": [
    "print(\"Enter the a : \")\n",
    "inp1=int(input())"
   ]
  },
  {
   "cell_type": "markdown",
   "metadata": {
    "colab_type": "text",
    "id": "lQys1eyfDH-9"
   },
   "source": [
    "# Python Examples\n",
    "## Factorial"
   ]
  },
  {
   "cell_type": "markdown",
   "metadata": {
    "colab_type": "text",
    "id": "El5d5DiKDH-9"
   },
   "source": [
    "![alt text](https://javatutoring.com/wp-content/uploads/2016/11/factorial-491x330.gif)"
   ]
  },
  {
   "cell_type": "code",
   "execution_count": 142,
   "metadata": {
    "colab": {},
    "colab_type": "code",
    "id": "FYTI4SdGDH--",
    "outputId": "ce3c6429-69a5-4cba-d4f4-437751212aee"
   },
   "outputs": [
    {
     "name": "stdout",
     "output_type": "stream",
     "text": [
      "Enter a number: 12\n",
      "1\n",
      "2\n",
      "6\n",
      "24\n",
      "120\n",
      "720\n",
      "5040\n",
      "40320\n",
      "362880\n",
      "3628800\n",
      "39916800\n",
      "479001600\n",
      "The factorial of 12 is 479001600\n"
     ]
    }
   ],
   "source": [
    "# change the value for a different result\n",
    "#num = 7\n",
    "# To take input from the user\n",
    "\n",
    "num = int(input(\"Enter a number: \"))\n",
    "\n",
    "factorial = 1\n",
    "# check if the number is negative, positive or zero\n",
    "\n",
    "if num < 0:\n",
    "   print(\"Sorry, factorial does not exist for negative numbers\")\n",
    "\n",
    "elif num == 0:\n",
    "   print(\"The factorial of 0 is 1\")\n",
    "\n",
    "else:\n",
    "   for i in range(1,num + 1):\n",
    "       factorial = factorial*i\n",
    "       print(factorial) \n",
    "   print(\"The factorial of\",num,\"is\",factorial)"
   ]
  },
  {
   "cell_type": "markdown",
   "metadata": {
    "colab_type": "text",
    "id": "DF3pCnoCDH_C"
   },
   "source": [
    "# Fibonacci"
   ]
  },
  {
   "cell_type": "markdown",
   "metadata": {
    "colab_type": "text",
    "id": "_mBwPZ3CDH_C"
   },
   "source": [
    "![alt text](https://media.geeksforgeeks.org/wp-content/cdn-uploads/fibonacci-sequence.png)"
   ]
  },
  {
   "cell_type": "code",
   "execution_count": 143,
   "metadata": {
    "colab": {},
    "colab_type": "code",
    "id": "sK-a8GaUDH_D",
    "outputId": "f4da7bbe-ae96-4116-c658-17b362e1af88"
   },
   "outputs": [
    {
     "name": "stdout",
     "output_type": "stream",
     "text": [
      "21\n"
     ]
    }
   ],
   "source": [
    "def fibonacci(n): \n",
    "    a = 0\n",
    "    b = 1\n",
    "    if n < 0: \n",
    "        print(\"Incorrect input\") \n",
    "    elif n == 0: \n",
    "        return a \n",
    "    elif n == 1: \n",
    "        return b \n",
    "    else: \n",
    "        for i in range(2,n): \n",
    "            c = a + b \n",
    "            a = b \n",
    "            b = c \n",
    "        return b \n",
    "  \n",
    "# Driver Program \n",
    "  \n",
    "print(fibonacci(9)) "
   ]
  },
  {
   "cell_type": "code",
   "execution_count": null,
   "metadata": {
    "colab": {},
    "colab_type": "code",
    "id": "Cd0FbbaJDH_M"
   },
   "outputs": [],
   "source": []
  },
  {
   "cell_type": "markdown",
   "metadata": {
    "colab_type": "text",
    "id": "C6zX2E2HIEiR"
   },
   "source": []
  },
  {
   "cell_type": "markdown",
   "metadata": {},
   "source": [
    "Task :\n",
    "Small Admission management system , For instance Each department in every clg has only 3 seats , after 3seats filled up , has to show seats are filled for this department\n",
    "\n",
    "Output :\n",
    "\n",
    "Select the University Anna/bharathi:\n",
    "\n",
    "anna #this is your answer\n",
    "\n",
    "Select the clg nsn/pgp:\n",
    "\n",
    "nsn #this is your answer\n",
    "\n",
    "Select the department cse/ece:\n",
    "\n",
    "cse #this is your answer\n",
    "\n",
    "confirm cse ?\n",
    "\n",
    "yes #this is your answer\n",
    "\n",
    "Select the University Anna/bharathi:\n",
    "\n",
    "anna #this is your answer\n",
    "\n",
    "...........................\n",
    "\n",
    "...............\n",
    "\n",
    ".............# after 3 confirmation in cse\n",
    "\n",
    "Select the department cse/ece:\n",
    "\n",
    "cse #this is your answer\n",
    "\n",
    "Sorry ! seats are full\n",
    "\n",
    "Select the University Anna/bharathi:\n",
    "\n",
    "................\n",
    "\n",
    ".................\n",
    "\n",
    "..............\n",
    "\n",
    "\n",
    "\n"
   ]
  },
  {
   "cell_type": "code",
   "execution_count": null,
   "metadata": {},
   "outputs": [],
   "source": [
    "\n",
    "\n",
    "\n"
   ]
  },
  {
   "cell_type": "code",
   "execution_count": null,
   "metadata": {},
   "outputs": [],
   "source": []
  }
 ],
 "metadata": {
  "colab": {
   "collapsed_sections": [
    "f8L0yWAhDH28",
    "-Cevu-_RDH3h",
    "Dck5y2XmDH4s",
    "er-omuxNDH6S",
    "Hu91rSAoDH7m",
    "mteujJpYDH8E",
    "khiCWSlUDH8e",
    "KuY2V8EeDH9-"
   ],
   "name": "Python all basics.ipynb",
   "provenance": []
  },
  "kernelspec": {
   "display_name": "Python 3",
   "language": "python",
   "name": "python3"
  },
  "language_info": {
   "codemirror_mode": {
    "name": "ipython",
    "version": 3
   },
   "file_extension": ".py",
   "mimetype": "text/x-python",
   "name": "python",
   "nbconvert_exporter": "python",
   "pygments_lexer": "ipython3",
   "version": "3.6.8"
  }
 },
 "nbformat": 4,
 "nbformat_minor": 1
}
